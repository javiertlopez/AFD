{
 "cells": [
  {
   "cell_type": "markdown",
   "metadata": {},
   "source": [
    "# AFD (Parcial 1)"
   ]
  },
  {
   "cell_type": "markdown",
   "metadata": {},
   "source": [
    "## Overview\n",
    "Simular un autómata finito determinista (AFD). Identificar todas las subcadenas\n",
    "\n",
    "Repositorio: https://github.com/javiertlopez/afd\n",
    "\n",
    "Jupyter notebook: https://github.com/javiertlopez/afd/blob/master/p1.ipynb"
   ]
  },
  {
   "cell_type": "markdown",
   "metadata": {},
   "source": [
    "## Desarrollo\n",
    "Basado en la versión anterior se modifica para iterar sobre las subcadenas de la siguiente manera."
   ]
  },
  {
   "cell_type": "code",
   "execution_count": 1,
   "metadata": {},
   "outputs": [],
   "source": [
    "# Abrir archivo\n",
    "path = 'in.txt'\n",
    "file = open(path,'r')"
   ]
  },
  {
   "cell_type": "code",
   "execution_count": 2,
   "metadata": {},
   "outputs": [],
   "source": [
    "# Leer cadena de entrada, limpiar caracteres de escape\n",
    "def read_line(file):\n",
    "    line = file.readline()\n",
    "    line = line.strip()\n",
    "    return line\n",
    "\n",
    "cadena = read_line(file)"
   ]
  },
  {
   "cell_type": "code",
   "execution_count": 3,
   "metadata": {},
   "outputs": [],
   "source": [
    "# Leer alfabeto, limpiar caracteres de escape, filtra elementos vacios\n",
    "def read_pair(file):\n",
    "    line = file.readline()\n",
    "    line = line.strip()\n",
    "\n",
    "    list = line.split(\";\")\n",
    "\n",
    "    list = [x for x in list if len(x) > 0]\n",
    "\n",
    "    return list\n",
    "\n",
    "alfabeto = read_pair(file)"
   ]
  },
  {
   "cell_type": "code",
   "execution_count": 4,
   "metadata": {},
   "outputs": [],
   "source": [
    "# Leer estado de inicio, convertir a entero\n",
    "inicio = read_line(file)\n",
    "inicio = int(inicio)"
   ]
  },
  {
   "cell_type": "code",
   "execution_count": 5,
   "metadata": {},
   "outputs": [],
   "source": [
    "# Leer estados finales\n",
    "def read_ints(file):\n",
    "    line = file.readline()\n",
    "\n",
    "    list = line.split(\";\")\n",
    "\n",
    "    list = [int(y) for y in list if y.isdigit()]\n",
    "\n",
    "    return list\n",
    "\n",
    "finales = read_ints(file)"
   ]
  },
  {
   "cell_type": "code",
   "execution_count": 6,
   "metadata": {},
   "outputs": [],
   "source": [
    "# Matriz con la función de transiciones\n",
    "matrix = []\n",
    "for line in file:\n",
    "    func = line.split(\";\")\n",
    "    func = [int(x) for x in func if x.isdigit()]\n",
    "\n",
    "    matrix.append(func)"
   ]
  },
  {
   "cell_type": "code",
   "execution_count": 7,
   "metadata": {},
   "outputs": [
    {
     "name": "stdout",
     "output_type": "stream",
     "text": [
      "['001', '00101', '01', '0101', '1', '101']\n"
     ]
    }
   ],
   "source": [
    "# Desarrollo\n",
    "# Guarda las subcadenas en un arreglo\n",
    "subcadenas = [cadena[i: j] for i in range(len(cadena)) \n",
    "      for j in range(i + 1, len(cadena) + 1)]\n",
    "\n",
    "# Itera sobre las cadenas\n",
    "resultado = []\n",
    "for item in subcadenas:\n",
    "    # Guarda la cadena de inicio en la variable actual\n",
    "    actual = inicio\n",
    "    # Iteramos sobre la cadena\n",
    "    for char in item:\n",
    "        # Buscamos en la matriz de la función de transicion el estado correspondiente\n",
    "        actual = matrix[actual][alfabeto.index(char)]\n",
    "\n",
    "    if actual in finales:\n",
    "        resultado.append(item)\n",
    "\n",
    "# Imprimimos el resultado\n",
    "resultado = list(dict.fromkeys(resultado))\n",
    "print(resultado)"
   ]
  },
  {
   "cell_type": "markdown",
   "metadata": {},
   "source": [
    "## Demo\n",
    "Para efectos de comprobar el funcionamiento de la práctica, lo anterior está encapsulado en el método is_valid de archivo afd.py que recibe como parametro la dirección del archivo a probar."
   ]
  },
  {
   "cell_type": "code",
   "execution_count": 8,
   "metadata": {},
   "outputs": [],
   "source": [
    "# Importar archivo\n",
    "from afd import is_valid"
   ]
  },
  {
   "cell_type": "markdown",
   "metadata": {},
   "source": [
    "### Automata M4\n",
    "<img src=\"images/m4.png\" />"
   ]
  },
  {
   "cell_type": "code",
   "execution_count": 9,
   "metadata": {},
   "outputs": [
    {
     "name": "stdout",
     "output_type": "stream",
     "text": [
      "['01', '0101', '010101', '01010101', '1', '101', '10101', '1010101']\n"
     ]
    }
   ],
   "source": [
    "# Ejemplo 1: 010101010\n",
    "is_valid('010101010.txt')"
   ]
  },
  {
   "cell_type": "code",
   "execution_count": 10,
   "metadata": {},
   "outputs": [
    {
     "name": "stdout",
     "output_type": "stream",
     "text": [
      "['000001', '00001', '0001', '001', '01', '1']\n"
     ]
    }
   ],
   "source": [
    "# Ejemplo 2: 000001\n",
    "is_valid('000001.txt')"
   ]
  },
  {
   "cell_type": "code",
   "execution_count": 11,
   "metadata": {},
   "outputs": [
    {
     "name": "stdout",
     "output_type": "stream",
     "text": [
      "['1', '11', '111']\n"
     ]
    }
   ],
   "source": [
    "# Ejemplo 3: 111\n",
    "is_valid('111.txt')"
   ]
  },
  {
   "cell_type": "markdown",
   "metadata": {},
   "source": [
    "### Segundo automata"
   ]
  },
  {
   "cell_type": "code",
   "execution_count": 12,
   "metadata": {},
   "outputs": [
    {
     "name": "stdout",
     "output_type": "stream",
     "text": [
      "['a', 'aa', 'aabc', 'aabca', 'aabcaa', 'aabcaaa', 'aabcaaabc', 'aabcaaabca', 'abc', 'abca', 'abcaa', 'abcaaa', 'abcaaabc', 'abcaaabca', 'bc', 'bca', 'bcaa', 'bcaaa', 'bcaaabc', 'bcaaabca', 'c', 'ca', 'caa', 'caaa', 'caaabc', 'caaabca', 'aaa', 'aaabc', 'aaabca']\n"
     ]
    }
   ],
   "source": [
    "# Ejemplo 1: aabcaaabca\n",
    "is_valid('aabcaaabca.txt')"
   ]
  },
  {
   "cell_type": "code",
   "execution_count": 14,
   "metadata": {},
   "outputs": [
    {
     "name": "stdout",
     "output_type": "stream",
     "text": [
      "['bc', 'bcbc', 'bcbca', 'bcbcaa', 'bcbcaac', 'c', 'cbc', 'cbca', 'cbcaa', 'cbcaac', 'bca', 'bcaa', 'bcaac', 'ca', 'caa', 'caac', 'a', 'aa', 'aac', 'ac']\n"
     ]
    }
   ],
   "source": [
    "# Ejemplo 2: bcbcaac\n",
    "is_valid('bcbcaac.txt')"
   ]
  },
  {
   "cell_type": "code",
   "execution_count": 16,
   "metadata": {},
   "outputs": [
    {
     "name": "stdout",
     "output_type": "stream",
     "text": [
      "['bc', 'c']\n"
     ]
    }
   ],
   "source": [
    "# Ejemplo 3: bbc\n",
    "is_valid('bbc.txt')"
   ]
  },
  {
   "cell_type": "code",
   "execution_count": 17,
   "metadata": {},
   "outputs": [
    {
     "name": "stdout",
     "output_type": "stream",
     "text": [
      "['a', 'aa']\n"
     ]
    }
   ],
   "source": [
    "# Ejemplo 4: aababb\n",
    "is_valid('aababb.txt')"
   ]
  },
  {
   "cell_type": "code",
   "execution_count": null,
   "metadata": {},
   "outputs": [],
   "source": []
  }
 ],
 "metadata": {
  "kernelspec": {
   "display_name": "Python 3",
   "language": "python",
   "name": "python3"
  },
  "language_info": {
   "codemirror_mode": {
    "name": "ipython",
    "version": 3
   },
   "file_extension": ".py",
   "mimetype": "text/x-python",
   "name": "python",
   "nbconvert_exporter": "python",
   "pygments_lexer": "ipython3",
   "version": "3.7.4"
  }
 },
 "nbformat": 4,
 "nbformat_minor": 2
}
