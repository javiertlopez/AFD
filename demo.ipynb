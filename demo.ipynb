{
 "cells": [
  {
   "cell_type": "markdown",
   "metadata": {},
   "source": [
    "# AFD"
   ]
  },
  {
   "cell_type": "markdown",
   "metadata": {},
   "source": [
    "## Overview\n",
    "Simular un autómata finito determinista (AFD).\n",
    "\n",
    "Repositorio: https://github.com/javiertlopez/afd\n",
    "\n",
    "Jupyter notebook: https://github.com/javiertlopez/afd/blob/master/demo.ipynb"
   ]
  },
  {
   "cell_type": "markdown",
   "metadata": {},
   "source": [
    "## Desarrollo\n",
    "Archivo con la especificación de la cadena a procesar y la entrada"
   ]
  },
  {
   "cell_type": "code",
   "execution_count": 24,
   "metadata": {},
   "outputs": [],
   "source": [
    "# Abrir archivo\n",
    "path = 'in.txt'\n",
    "file = open(path,'r')"
   ]
  },
  {
   "cell_type": "code",
   "execution_count": 25,
   "metadata": {},
   "outputs": [],
   "source": [
    "# Leer cadena de entrada, limpiar caracteres de escape\n",
    "def read_line(file):\n",
    "    line = file.readline()\n",
    "    line = line.strip()\n",
    "    return line\n",
    "\n",
    "cadena = read_line(file)"
   ]
  },
  {
   "cell_type": "code",
   "execution_count": 26,
   "metadata": {},
   "outputs": [],
   "source": [
    "# Leer alfabeto, limpiar caracteres de escape, filtra elementos vacios\n",
    "def read_pair(file):\n",
    "    line = file.readline()\n",
    "    line = line.strip()\n",
    "\n",
    "    list = line.split(\";\")\n",
    "\n",
    "    list = [x for x in list if len(x) > 0]\n",
    "\n",
    "    return list\n",
    "\n",
    "alfabeto = read_pair(file)"
   ]
  },
  {
   "cell_type": "code",
   "execution_count": 27,
   "metadata": {},
   "outputs": [],
   "source": [
    "# Leer estado de inicio, convertir a entero\n",
    "inicio = read_line(file)\n",
    "inicio = int(inicio)"
   ]
  },
  {
   "cell_type": "code",
   "execution_count": 28,
   "metadata": {},
   "outputs": [],
   "source": [
    "# Leer estados finales\n",
    "def read_ints(file):\n",
    "    line = file.readline()\n",
    "\n",
    "    list = line.split(\";\")\n",
    "\n",
    "    list = [int(y) for y in list if y.isdigit()]\n",
    "\n",
    "    return list\n",
    "\n",
    "finales = read_ints(file)"
   ]
  },
  {
   "cell_type": "code",
   "execution_count": 29,
   "metadata": {},
   "outputs": [],
   "source": [
    "# Matriz con la función de transiciones\n",
    "matrix = []\n",
    "for line in file:\n",
    "    func = line.split(\";\")\n",
    "    func = [int(x) for x in func if x.isdigit()]\n",
    "\n",
    "    matrix.append(func)"
   ]
  },
  {
   "cell_type": "code",
   "execution_count": 30,
   "metadata": {},
   "outputs": [
    {
     "name": "stdout",
     "output_type": "stream",
     "text": [
      "ACEPTADO\n",
      "0/0/0/1/2/1/2/1\n"
     ]
    }
   ],
   "source": [
    "# Desarrollo\n",
    "# Guarda la cadena de inicio en la variable actual\n",
    "actual = inicio\n",
    "# Guarda la cadena actual en la variable estado\n",
    "estado = actual\n",
    "# Iteramos sobre la cadena\n",
    "for char in cadena:\n",
    "    # Buscamos en la matriz de la función de transicion el estado correspondiente\n",
    "    actual = matrix[actual][alfabeto.index(char)]\n",
    "    # Actualizamos el estado\n",
    "    estado = str(estado) + '/' + str(actual)\n",
    "\n",
    "# Verificamos si el último estado está dentro de los estados finales\n",
    "if actual in finales:\n",
    "    print(\"ACEPTADO\")\n",
    "else:\n",
    "    print(\"RECHAZADO\")\n",
    "\n",
    "# Imprimimos todo el recorrido\n",
    "print(estado)"
   ]
  },
  {
   "cell_type": "markdown",
   "metadata": {},
   "source": [
    "## Demo\n",
    "Para efectos de comprobar el funcionamiento de la práctica, lo anterior está encapsulado en el método is_valid de archivo afd.py que recibe como parametro la dirección del archivo a probar."
   ]
  },
  {
   "cell_type": "code",
   "execution_count": 31,
   "metadata": {},
   "outputs": [],
   "source": [
    "# Importar archivo\n",
    "from afd import is_valid"
   ]
  },
  {
   "cell_type": "markdown",
   "metadata": {},
   "source": [
    "### Automata M4\n",
    "<img src=\"images/m4.png\" />"
   ]
  },
  {
   "cell_type": "code",
   "execution_count": 32,
   "metadata": {},
   "outputs": [
    {
     "name": "stdout",
     "output_type": "stream",
     "text": [
      "ACEPTADO\n",
      "0/0/0/0/0/1\n"
     ]
    }
   ],
   "source": [
    "# Ejemplo 1: 00001\n",
    "is_valid('00001.txt')"
   ]
  },
  {
   "cell_type": "code",
   "execution_count": 33,
   "metadata": {},
   "outputs": [
    {
     "name": "stdout",
     "output_type": "stream",
     "text": [
      "ACEPTADO\n",
      "0/0/1/2/1\n"
     ]
    }
   ],
   "source": [
    "# Ejemplo 2: 0100\n",
    "is_valid('0100.txt')"
   ]
  },
  {
   "cell_type": "code",
   "execution_count": 34,
   "metadata": {},
   "outputs": [
    {
     "name": "stdout",
     "output_type": "stream",
     "text": [
      "RECHAZADO\n",
      "0/0/0/1/2/1/2/1/2\n"
     ]
    }
   ],
   "source": [
    "# Ejemplo 3: 00100000\n",
    "is_valid('00100000.txt')"
   ]
  },
  {
   "cell_type": "code",
   "execution_count": 35,
   "metadata": {},
   "outputs": [
    {
     "name": "stdout",
     "output_type": "stream",
     "text": [
      "RECHAZADO\n",
      "0/0/1/2/1/2/1/2/1/2\n"
     ]
    }
   ],
   "source": [
    "# Ejemplo 4: 010101010\n",
    "is_valid('010101010.txt')"
   ]
  },
  {
   "cell_type": "markdown",
   "metadata": {},
   "source": [
    "### Automata M5\n",
    "<img src=\"images/m5.png\" />"
   ]
  },
  {
   "cell_type": "code",
   "execution_count": 36,
   "metadata": {},
   "outputs": [
    {
     "name": "stdout",
     "output_type": "stream",
     "text": [
      "ACEPTADO\n",
      "0/3/3/4/4/3\n"
     ]
    }
   ],
   "source": [
    "# Ejemplo 1: aabba\n",
    "is_valid('aabba.txt')"
   ]
  },
  {
   "cell_type": "code",
   "execution_count": 37,
   "metadata": {},
   "outputs": [
    {
     "name": "stdout",
     "output_type": "stream",
     "text": [
      "ACEPTADO\n",
      "0/1/2/1/2/1/2/1\n"
     ]
    }
   ],
   "source": [
    "# Ejemplo 2: bababab\n",
    "is_valid('bababab.txt')"
   ]
  },
  {
   "cell_type": "code",
   "execution_count": 38,
   "metadata": {},
   "outputs": [
    {
     "name": "stdout",
     "output_type": "stream",
     "text": [
      "RECHAZADO\n",
      "0/3/4/3/3/3/4\n"
     ]
    }
   ],
   "source": [
    "# Ejemplo 3: abaaab\n",
    "is_valid('abaaab.txt')"
   ]
  },
  {
   "cell_type": "code",
   "execution_count": 39,
   "metadata": {},
   "outputs": [
    {
     "name": "stdout",
     "output_type": "stream",
     "text": [
      "RECHAZADO\n",
      "0/3/4/3/3/3/4\n"
     ]
    }
   ],
   "source": [
    "# Ejemplo 4: aababb\n",
    "is_valid('aababb.txt')"
   ]
  },
  {
   "cell_type": "markdown",
   "metadata": {},
   "source": [
    "## Conclusión\n",
    "La actividad consistió en crear un programa que simula el comportamiento de un Automata Finito Determinista de acuerdo a las indicaciones antes presentadas, es decir, se recibe un archivo de texto en el cual se indica lo siguiente:\n",
    "- Cadena de entrada\n",
    "- Alfabeto\n",
    "- Estado inicial\n",
    "- Estados finales\n",
    "- Matriz con la función de transiciones\n",
    "Lo más interesante fue desarrollar la solución a través de una matríz, y convertir los elementos necesarios como enteros y el resto dejarlos como cadenas."
   ]
  }
 ],
 "metadata": {
  "kernelspec": {
   "display_name": "Python 3",
   "language": "python",
   "name": "python3"
  },
  "language_info": {
   "codemirror_mode": {
    "name": "ipython",
    "version": 3
   },
   "file_extension": ".py",
   "mimetype": "text/x-python",
   "name": "python",
   "nbconvert_exporter": "python",
   "pygments_lexer": "ipython3",
   "version": "3.7.4"
  }
 },
 "nbformat": 4,
 "nbformat_minor": 2
}
